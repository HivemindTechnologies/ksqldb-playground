{
 "cells": [
  {
   "cell_type": "code",
   "execution_count": null,
   "metadata": {},
   "outputs": [],
   "source": [
    "import dask.dataframe as dd\n",
    "import datetime"
   ]
  },
  {
   "cell_type": "code",
   "execution_count": null,
   "metadata": {},
   "outputs": [],
   "source": [
    "storage_options = {\n",
    "    \"key\": \"admin\",\n",
    "    \"secret\": \"password\",\n",
    "    \"use_listings_cache\": False,\n",
    "    \"client_kwargs\": {\n",
    "        \"endpoint_url\": \"http://localhost:9000\",\n",
    "    }\n",
    "}\n",
    "\n",
    "time_ago = datetime.datetime.utcnow() - datetime.timedelta(seconds=600)\n",
    "\n",
    "df = dd.read_parquet(\n",
    "    's3://sink-bucket/topics/sensor-data-s3/',\n",
    "    storage_options=storage_options,\n",
    "    filters=[\n",
    "        (\"year\", \">=\", time_ago.year),\n",
    "        (\"month\", \">=\", time_ago.month),\n",
    "        (\"day\", \">=\", time_ago.day),\n",
    "        (\"hour\", \">=\", time_ago.hour)\n",
    "    ]\n",
    ")\n",
    "\n",
    "df.head()"
   ]
  }
 ],
 "metadata": {
  "kernelspec": {
   "display_name": ".venv",
   "language": "python",
   "name": "python3"
  },
  "language_info": {
   "codemirror_mode": {
    "name": "ipython",
    "version": 3
   },
   "file_extension": ".py",
   "mimetype": "text/x-python",
   "name": "python",
   "nbconvert_exporter": "python",
   "pygments_lexer": "ipython3",
   "version": "3.10.8"
  },
  "orig_nbformat": 4,
  "vscode": {
   "interpreter": {
    "hash": "e38ad1c7fa750fea3558e94ee63496f2620b38a8616966c06c1713d47c56bdef"
   }
  }
 },
 "nbformat": 4,
 "nbformat_minor": 2
}
